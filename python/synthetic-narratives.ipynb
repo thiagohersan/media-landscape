{
  "cells": [
    {
      "cell_type": "markdown",
      "metadata": {},
      "source": [
        "## Image Generation"
      ]
    },
    {
      "cell_type": "code",
      "execution_count": null,
      "metadata": {
        "id": "QA6B1sEWQVO0"
      },
      "outputs": [],
      "source": [
        "!pip install transformers==4.49 diffusers==0.32.2"
      ]
    },
    {
      "cell_type": "code",
      "execution_count": null,
      "metadata": {},
      "outputs": [],
      "source": [
        "!rm -rf imgs/"
      ]
    },
    {
      "cell_type": "code",
      "execution_count": null,
      "metadata": {},
      "outputs": [],
      "source": [
        "!rm LandscapeGenerator.py utils.py"
      ]
    },
    {
      "cell_type": "code",
      "execution_count": null,
      "metadata": {
        "id": "-mp6zVlawGZl"
      },
      "outputs": [],
      "source": [
        "!wget https://raw.githubusercontent.com/thiagohersan/media-landscape/refs/heads/main/python/utils.py\n",
        "!wget https://raw.githubusercontent.com/thiagohersan/media-landscape/refs/heads/main/python/LandscapeGenerator.py"
      ]
    },
    {
      "cell_type": "code",
      "execution_count": null,
      "metadata": {
        "id": "vrbnt5Hvxi0o"
      },
      "outputs": [],
      "source": [
        "import os\n",
        "os.environ[\"GEMINI_API_KEY\"] = \"\"\n",
        "\n",
        "from datasets import load_dataset\n",
        "from LandscapeGenerator import LandscapeGenerator"
      ]
    },
    {
      "cell_type": "code",
      "execution_count": null,
      "metadata": {},
      "outputs": [],
      "source": [
        "newsdata_ds = load_dataset(\"thiagohersan/newsdata-images\", split=\"newsdata\")\n",
        "\n",
        "newsdata_data = []\n",
        "for img in newsdata_ds:\n",
        "  newsdata_data.append(img)\n",
        "\n",
        "newsdata_data_sorted = sorted(newsdata_data, key=lambda x: x[\"image\"].size[0]*x[\"image\"].size[1], reverse=True)"
      ]
    },
    {
      "cell_type": "code",
      "execution_count": null,
      "metadata": {
        "id": "sRvYTKsqx-4R"
      },
      "outputs": [],
      "source": [
        "# \"runwayml/stable-diffusion-inpainting\"\n",
        "# \"stable-diffusion-v1-5/stable-diffusion-inpainting\"\n",
        "# \"stabilityai/stable-diffusion-2-inpainting\"\n",
        "mLG = LandscapeGenerator(newsdata_data_sorted, \"stable-diffusion-v1-5/stable-diffusion-inpainting\")"
      ]
    },
    {
      "cell_type": "code",
      "execution_count": null,
      "metadata": {},
      "outputs": [],
      "source": [
        "mLG.gen_landscape(keep_width=256, size=(1440, 512), n=4, label=\"test\")"
      ]
    },
    {
      "cell_type": "markdown",
      "metadata": {},
      "source": [
        "## Read from newsdata.io"
      ]
    },
    {
      "cell_type": "code",
      "execution_count": null,
      "metadata": {},
      "outputs": [],
      "source": [
        "import os\n",
        "os.environ[\"NEWSDATA_API_KEY\"] = \"\"\n",
        "\n",
        "import json\n",
        "\n",
        "from utils import get_articles"
      ]
    },
    {
      "cell_type": "code",
      "execution_count": null,
      "metadata": {},
      "outputs": [],
      "source": [
        "flavors = [\"catastrophe\", \"disaster\", \"drought\", \"rain\"]\n",
        "\n",
        "q = \"rain\"\n",
        "res = get_articles(q=q, cat=\"environment\", n_articles=200)\n",
        "\n",
        "with open(f\"./data/newsdata_{q}_200.json\", \"w\") as ofp:\n",
        "  json.dump(res, ofp, ensure_ascii=False)"
      ]
    },
    {
      "cell_type": "markdown",
      "metadata": {},
      "source": [
        "## Read news from JSON"
      ]
    },
    {
      "cell_type": "code",
      "execution_count": null,
      "metadata": {},
      "outputs": [],
      "source": [
        "import os\n",
        "os.environ[\"GEMINI_API_KEY\"] = \"\"\n",
        "\n",
        "import json\n",
        "import time\n",
        "\n",
        "from utils import get_articles_with_top_words, get_article_images_by_size\n",
        "from utils import get_img_description"
      ]
    },
    {
      "cell_type": "code",
      "execution_count": null,
      "metadata": {},
      "outputs": [],
      "source": [
        "with open(\"./data/newsdata_rain_200.json\", \"r\") as ifp:\n",
        "  newsdata_res = json.load(ifp)\n",
        "\n",
        "art_idxs = get_articles_with_top_words(newsdata_res, n_words=14, n_articles=4)\n",
        "\n",
        "display(art_idxs)\n",
        "\n",
        "print(len(set(art_idxs.values.reshape(-1))), \"/\", len(newsdata_res))"
      ]
    },
    {
      "cell_type": "code",
      "execution_count": null,
      "metadata": {},
      "outputs": [],
      "source": [
        "len(sorted(x[\"article_id\"] for x in newsdata_res)), len(list(set(sorted(x[\"article_id\"] for x in newsdata_res))))"
      ]
    },
    {
      "cell_type": "code",
      "execution_count": null,
      "metadata": {},
      "outputs": [],
      "source": [
        "imgs_by_size = get_article_images_by_size(newsdata_res, art_idxs.values.reshape(-1), limit=30)\n",
        "\n",
        "img_data = []\n",
        "\n",
        "for img in imgs_by_size:\n",
        "  iw,ih = img[\"image\"].size\n",
        "  if ih > iw or ih < 480 or iw < 640:\n",
        "    continue\n",
        "\n",
        "  if ih > 512:\n",
        "    img_512 = img[\"image\"].resize((int(iw/ih*512), 512))\n",
        "  else:\n",
        "    img_512 = img[\"image\"]\n",
        "  \n",
        "  if img_512.size[0] < 640:\n",
        "    continue\n",
        "\n",
        "  description = get_img_description(img_512)\n",
        "  img_content = description[\"content\"]\n",
        "  img_style = description[\"style\"]\n",
        "  time.sleep(7)\n",
        "\n",
        "  if (\n",
        "    img_content == \"\" or img_style == \"\" or\n",
        "    \"logo\" in img_content or \"logo\" in img_style or\n",
        "    \"hologra\" in img_content or \"hologra\" in img_style or\n",
        "    \"branding\" in img_content or \"branding\" in img_style or\n",
        "    \"line art\" in img_content or \"line art\" in img_style or\n",
        "    \"typograph\" in img_content or \"typograph\" in img_style or\n",
        "    \"illustrat\" in img_content or \"illustrat\" in img_style or\n",
        "    \"digital art\" in img_content or \"digital art\" in img_style or\n",
        "    \"graphic design\" in img_content or \"graphic design\" in img_style or\n",
        "    \"graphic overlay\" in img_content or \"graphic overlay\" in img_style\n",
        "  ): continue\n",
        "\n",
        "  display(img_512)\n",
        "\n",
        "  img_data.append({\n",
        "    \"article_id\" : newsdata_res[img[\"idx\"]][\"article_id\"],\n",
        "    \"title\": newsdata_res[img[\"idx\"]][\"title\"],\n",
        "    \"pubDate\": newsdata_res[img[\"idx\"]][\"pubDate\"],\n",
        "    \"image\": img_512,\n",
        "    \"content\": description[\"content\"],\n",
        "    \"style\": description[\"style\"],\n",
        "  })\n",
        "\n",
        "len(img_data)"
      ]
    },
    {
      "cell_type": "markdown",
      "metadata": {},
      "source": [
        "## Push to HF"
      ]
    },
    {
      "cell_type": "code",
      "execution_count": null,
      "metadata": {},
      "outputs": [],
      "source": [
        "from datasets import Dataset, concatenate_datasets, load_dataset"
      ]
    },
    {
      "cell_type": "code",
      "execution_count": null,
      "metadata": {},
      "outputs": [],
      "source": [
        "dataset = Dataset.from_list(img_data)\n",
        "dataset.push_to_hub(\"thiagohersan/newsdata-images\", split=\"newsdata\")"
      ]
    },
    {
      "cell_type": "code",
      "execution_count": null,
      "metadata": {},
      "outputs": [],
      "source": [
        "dataset_hf = load_dataset(\"thiagohersan/newsdata-images\", split=\"newsdata\")\n",
        "dataset = concatenate_datasets([dataset_hf, Dataset.from_list(img_data)])\n",
        "dataset.push_to_hub(\"thiagohersan/newsdata-images\", split=\"newsdata\")"
      ]
    }
  ],
  "metadata": {
    "accelerator": "GPU",
    "colab": {
      "gpuType": "T4",
      "provenance": []
    },
    "kernelspec": {
      "display_name": "5020",
      "language": "python",
      "name": "python3"
    },
    "language_info": {
      "codemirror_mode": {
        "name": "ipython",
        "version": 3
      },
      "file_extension": ".py",
      "mimetype": "text/x-python",
      "name": "python",
      "nbconvert_exporter": "python",
      "pygments_lexer": "ipython3",
      "version": "3.10.18"
    }
  },
  "nbformat": 4,
  "nbformat_minor": 0
}
