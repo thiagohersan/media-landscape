{
  "cells": [
    {
      "cell_type": "markdown",
      "metadata": {},
      "source": [
        "## Image Generation"
      ]
    },
    {
      "cell_type": "code",
      "execution_count": null,
      "metadata": {
        "id": "QA6B1sEWQVO0"
      },
      "outputs": [],
      "source": [
        "!pip install transformers==4.49 diffusers==0.32.2"
      ]
    },
    {
      "cell_type": "code",
      "execution_count": null,
      "metadata": {
        "id": "-mp6zVlawGZl"
      },
      "outputs": [],
      "source": [
        "!wget https://raw.githubusercontent.com/thiagohersan/media-landscape/refs/heads/main/python/utils.py\n",
        "!wget https://raw.githubusercontent.com/thiagohersan/media-landscape/refs/heads/main/python/imgs/landscape_00.jpg"
      ]
    },
    {
      "cell_type": "code",
      "execution_count": null,
      "metadata": {
        "id": "vrbnt5Hvxi0o"
      },
      "outputs": [],
      "source": [
        "import os\n",
        "os.environ[\"GEMINI_API_KEY\"] = \"\"\n",
        "os.environ[\"NEWSDATA_API_KEY\"] = \"\"\n",
        "\n",
        "import json\n",
        "\n",
        "from PIL import Image as PImage\n",
        "\n",
        "from utils import get_articles, get_articles_with_top_words\n",
        "from utils import get_img, get_img_description\n",
        "from utils import Generator, get_pipeline, get_input_images"
      ]
    },
    {
      "cell_type": "code",
      "execution_count": null,
      "metadata": {
        "id": "sRvYTKsqx-4R"
      },
      "outputs": [],
      "source": [
        "# \"runwayml/stable-diffusion-inpainting\",\n",
        "# \"stable-diffusion-v1-5/stable-diffusion-inpainting\",\n",
        "# \"stabilityai/stable-diffusion-2-inpainting\",\n",
        "\n",
        "pipe = get_pipeline(\"stable-diffusion-v1-5/stable-diffusion-inpainting\")"
      ]
    },
    {
      "cell_type": "code",
      "execution_count": null,
      "metadata": {
        "id": "49EP1X7L1IkA"
      },
      "outputs": [],
      "source": [
        "img00 = PImage.open(\"./landscape_00.jpg\")\n",
        "img, mask = get_input_images(img00, keep_width=256, size=(1440, 512))\n",
        "# display(img)\n",
        "# display(mask)"
      ]
    },
    {
      "cell_type": "code",
      "execution_count": null,
      "metadata": {
        "id": "Wq5_J__zyI1R"
      },
      "outputs": [],
      "source": [
        "prompt = get_img_description(img00)\n",
        "anthropoprompt = f\"post apocalyptic version of {prompt}, but with things on fire, floods and trash everywhere\"\n",
        "anthropoprompt"
      ]
    },
    {
      "cell_type": "code",
      "execution_count": null,
      "metadata": {
        "id": "KKUmRksSzmqq"
      },
      "outputs": [],
      "source": [
        "generator = Generator(device=\"cuda\").manual_seed(1010)\n",
        "\n",
        "output = pipe(\n",
        "  prompt=anthropoprompt,\n",
        "  negative_prompt=\"repetitive, distortion, glitch, borders, stretched, frames, breaks, multiple rows\",\n",
        "  image=img,\n",
        "  mask_image=mask,\n",
        "  width=img.size[0], height=img.size[1],\n",
        "  guidance_scale=16.0,\n",
        "  num_inference_steps=24,\n",
        "  generator=generator\n",
        ")\n",
        "\n",
        "display(output.images[0])\n"
      ]
    },
    {
      "cell_type": "markdown",
      "metadata": {},
      "source": [
        "## Newsdata.io"
      ]
    },
    {
      "cell_type": "code",
      "execution_count": null,
      "metadata": {},
      "outputs": [],
      "source": [
        "res = get_articles(n_articles=200)\n",
        "\n",
        "with open(f\"./data/newsdata_top_200.json\", \"w\") as ofp:\n",
        "  json.dump(res, ofp)"
      ]
    },
    {
      "cell_type": "code",
      "execution_count": null,
      "metadata": {},
      "outputs": [],
      "source": [
        "q = \"catastrophe\"\n",
        "res = get_articles(q=q, cat=\"environment\", n_articles=200)\n",
        "\n",
        "with open(f\"./data/newsdata_{q}_200.json\", \"w\") as ofp:\n",
        "  json.dump(res, ofp)"
      ]
    },
    {
      "cell_type": "code",
      "execution_count": null,
      "metadata": {},
      "outputs": [],
      "source": [
        "q = \"rain\"\n",
        "res = get_articles(q=q, cat=\"environment\", n_articles=200)\n",
        "\n",
        "with open(f\"./data/newsdata_{q}_200.json\", \"w\") as ofp:\n",
        "  json.dump(res, ofp)"
      ]
    },
    {
      "cell_type": "code",
      "execution_count": null,
      "metadata": {},
      "outputs": [],
      "source": [
        "with open(\"./data/newsdata_catastrophe_200.json\", \"r\") as ifp:\n",
        "  newsdata_res = json.load(ifp)\n",
        "\n",
        "art_idxs = get_articles_with_top_words(newsdata_res, n_words=20, n_articles=3)\n",
        "\n",
        "art_idxs"
      ]
    },
    {
      "cell_type": "code",
      "execution_count": null,
      "metadata": {},
      "outputs": [],
      "source": [
        "imgs = [get_img(newsdata_res[idx][\"image_url\"]) for idx in art_idxs.values.reshape(-1)]\n",
        "\n",
        "imgs = [x for x in imgs if type(x) != str]\n",
        "\n",
        "imgs_by_size = sorted(imgs, key=lambda x: x.size[0]*x.size[1], reverse=True)\n",
        "\n",
        "for img in imgs_by_size:\n",
        "  display(img)"
      ]
    }
  ],
  "metadata": {
    "accelerator": "GPU",
    "colab": {
      "gpuType": "T4",
      "provenance": []
    },
    "kernelspec": {
      "display_name": "5020",
      "language": "python",
      "name": "python3"
    },
    "language_info": {
      "codemirror_mode": {
        "name": "ipython",
        "version": 3
      },
      "file_extension": ".py",
      "mimetype": "text/x-python",
      "name": "python",
      "nbconvert_exporter": "python",
      "pygments_lexer": "ipython3",
      "version": "3.10.18"
    }
  },
  "nbformat": 4,
  "nbformat_minor": 0
}
