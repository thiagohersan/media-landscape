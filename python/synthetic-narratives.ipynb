{
  "cells": [
    {
      "cell_type": "code",
      "execution_count": null,
      "metadata": {
        "id": "QA6B1sEWQVO0"
      },
      "outputs": [],
      "source": [
        "!pip install transformers==4.49 diffusers==0.32.2"
      ]
    },
    {
      "cell_type": "code",
      "execution_count": null,
      "metadata": {
        "id": "-mp6zVlawGZl"
      },
      "outputs": [],
      "source": [
        "!wget https://raw.githubusercontent.com/thiagohersan/media-landscape/refs/heads/main/python/utils.py\n",
        "!wget https://raw.githubusercontent.com/thiagohersan/media-landscape/refs/heads/main/python/imgs/landscape_00.jpg"
      ]
    },
    {
      "cell_type": "code",
      "execution_count": null,
      "metadata": {
        "id": "vrbnt5Hvxi0o"
      },
      "outputs": [],
      "source": [
        "import os\n",
        "os.environ[\"GEMINI_API_KEY\"] = \"\"\n",
        "\n",
        "import torch\n",
        "\n",
        "from PIL import Image as PImage\n",
        "\n",
        "from utils import get_img_description\n",
        "from utils import get_pipeline, get_input_images"
      ]
    },
    {
      "cell_type": "code",
      "execution_count": null,
      "metadata": {
        "id": "sRvYTKsqx-4R"
      },
      "outputs": [],
      "source": [
        "# \"runwayml/stable-diffusion-inpainting\",\n",
        "# \"stable-diffusion-v1-5/stable-diffusion-inpainting\",\n",
        "# \"stabilityai/stable-diffusion-2-inpainting\",\n",
        "\n",
        "pipe = get_pipeline(\"stable-diffusion-v1-5/stable-diffusion-inpainting\")\n"
      ]
    },
    {
      "cell_type": "code",
      "execution_count": null,
      "metadata": {
        "id": "49EP1X7L1IkA"
      },
      "outputs": [],
      "source": [
        "img00 = PImage.open(\"./landscape_00.jpg\")\n",
        "img00 = PImage.open(\"./manhattan.jpg\")\n",
        "img, mask = get_input_images(img00, keep_width=256, size=(1440, 512))\n",
        "\n",
        "# display(img)\n",
        "# display(mask)"
      ]
    },
    {
      "cell_type": "code",
      "execution_count": null,
      "metadata": {
        "id": "Wq5_J__zyI1R"
      },
      "outputs": [],
      "source": [
        "prompt = get_img_description(img00)\n",
        "anthropoprompt = f\"post apocalyptic version of {prompt}, but with things on fire, floods and trash everywhere\"\n",
        "anthropoprompt"
      ]
    },
    {
      "cell_type": "code",
      "execution_count": null,
      "metadata": {
        "id": "KKUmRksSzmqq"
      },
      "outputs": [],
      "source": [
        "generator = torch.Generator(device=\"cuda\").manual_seed(1010)\n",
        "\n",
        "output = pipe(\n",
        "  prompt=anthropoprompt,\n",
        "  negative_prompt=\"repetitive, distortion, glitch, borders, stretched, frames, breaks, multiple rows\",\n",
        "  image=img,\n",
        "  mask_image=mask,\n",
        "  width=img.size[0], height=img.size[1],\n",
        "  guidance_scale=16.0,\n",
        "  num_inference_steps=24,\n",
        "  generator=generator\n",
        ")\n",
        "\n",
        "display(output.images[0])\n"
      ]
    }
  ],
  "metadata": {
    "accelerator": "GPU",
    "colab": {
      "gpuType": "T4",
      "provenance": []
    },
    "kernelspec": {
      "display_name": "5020",
      "language": "python",
      "name": "python3"
    },
    "language_info": {
      "name": "python",
      "version": "3.10.18"
    }
  },
  "nbformat": 4,
  "nbformat_minor": 0
}
