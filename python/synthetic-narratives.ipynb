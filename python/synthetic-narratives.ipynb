{
  "cells": [
    {
      "cell_type": "markdown",
      "metadata": {},
      "source": [
        "## Image Generation"
      ]
    },
    {
      "cell_type": "code",
      "execution_count": null,
      "metadata": {
        "id": "QA6B1sEWQVO0"
      },
      "outputs": [],
      "source": [
        "!pip install transformers==4.49 diffusers==0.32.2"
      ]
    },
    {
      "cell_type": "code",
      "execution_count": null,
      "metadata": {
        "id": "-mp6zVlawGZl"
      },
      "outputs": [],
      "source": [
        "!wget https://raw.githubusercontent.com/thiagohersan/media-landscape/refs/heads/main/python/utils.py\n",
        "!wget https://raw.githubusercontent.com/thiagohersan/media-landscape/refs/heads/main/python/imgs/landscape_00.jpg"
      ]
    },
    {
      "cell_type": "code",
      "execution_count": null,
      "metadata": {
        "id": "vrbnt5Hvxi0o"
      },
      "outputs": [],
      "source": [
        "import os\n",
        "os.environ[\"GEMINI_API_KEY\"] = \"\"\n",
        "os.environ[\"NEWSDATA_API_KEY\"] = \"\"\n",
        "\n",
        "import json\n",
        "\n",
        "from PIL import Image as PImage\n",
        "\n",
        "from utils import get_articles, get_articles_with_top_words, get_article_images_by_size\n",
        "from utils import get_img, get_img_description\n",
        "from utils import Generator, get_pipeline, get_input_images"
      ]
    },
    {
      "cell_type": "code",
      "execution_count": null,
      "metadata": {
        "id": "sRvYTKsqx-4R"
      },
      "outputs": [],
      "source": [
        "# \"runwayml/stable-diffusion-inpainting\",\n",
        "# \"stable-diffusion-v1-5/stable-diffusion-inpainting\",\n",
        "# \"stabilityai/stable-diffusion-2-inpainting\",\n",
        "\n",
        "pipe = get_pipeline(\"stable-diffusion-v1-5/stable-diffusion-inpainting\")"
      ]
    },
    {
      "cell_type": "code",
      "execution_count": null,
      "metadata": {
        "id": "49EP1X7L1IkA"
      },
      "outputs": [],
      "source": [
        "img00 = PImage.open(\"./landscape_00.jpg\")\n",
        "img, mask = get_input_images(img00, keep_width=256, size=(1440, 512))\n",
        "# display(img)\n",
        "# display(mask)"
      ]
    },
    {
      "cell_type": "code",
      "execution_count": null,
      "metadata": {
        "id": "Wq5_J__zyI1R"
      },
      "outputs": [],
      "source": [
        "prompt = get_img_description(img00)\n",
        "anthropoprompt = f\"post apocalyptic version of {prompt}, but with things on fire, floods and trash everywhere\"\n",
        "anthropoprompt"
      ]
    },
    {
      "cell_type": "code",
      "execution_count": null,
      "metadata": {
        "id": "KKUmRksSzmqq"
      },
      "outputs": [],
      "source": [
        "generator = Generator(device=\"cuda\").manual_seed(1010)\n",
        "\n",
        "output = pipe(\n",
        "  prompt=anthropoprompt,\n",
        "  negative_prompt=\"repetitive, distortion, glitch, borders, stretched, frames, breaks, multiple rows\",\n",
        "  image=img,\n",
        "  mask_image=mask,\n",
        "  width=img.size[0], height=img.size[1],\n",
        "  guidance_scale=16.0,\n",
        "  num_inference_steps=24,\n",
        "  generator=generator\n",
        ")\n",
        "\n",
        "display(output.images[0])\n"
      ]
    },
    {
      "cell_type": "markdown",
      "metadata": {},
      "source": [
        "## Newsdata.io"
      ]
    },
    {
      "cell_type": "code",
      "execution_count": null,
      "metadata": {},
      "outputs": [],
      "source": [
        "res = get_articles(n_articles=200)\n",
        "\n",
        "with open(f\"./data/newsdata_top_200.json\", \"w\") as ofp:\n",
        "  json.dump(res, ofp)"
      ]
    },
    {
      "cell_type": "code",
      "execution_count": null,
      "metadata": {},
      "outputs": [],
      "source": [
        "q = \"catastrophe\"\n",
        "res = get_articles(q=q, cat=\"environment\", n_articles=200)\n",
        "\n",
        "with open(f\"./data/newsdata_{q}_200.json\", \"w\") as ofp:\n",
        "  json.dump(res, ofp)"
      ]
    },
    {
      "cell_type": "code",
      "execution_count": null,
      "metadata": {},
      "outputs": [],
      "source": [
        "q = \"rain\"\n",
        "res = get_articles(q=q, cat=\"environment\", n_articles=200)\n",
        "\n",
        "with open(f\"./data/newsdata_{q}_200.json\", \"w\") as ofp:\n",
        "  json.dump(res, ofp)"
      ]
    },
    {
      "cell_type": "markdown",
      "metadata": {},
      "source": [
        "## Read News JSON"
      ]
    },
    {
      "cell_type": "code",
      "execution_count": null,
      "metadata": {},
      "outputs": [],
      "source": [
        "with open(\"./data/newsdata_rain_200.json\", \"r\") as ifp:\n",
        "  newsdata_res = json.load(ifp)\n",
        "\n",
        "art_idxs = get_articles_with_top_words(newsdata_res, n_words=9, n_articles=7)\n",
        "\n",
        "display(art_idxs)\n",
        "\n",
        "len(set(art_idxs.values.reshape(-1)))"
      ]
    },
    {
      "cell_type": "code",
      "execution_count": null,
      "metadata": {},
      "outputs": [],
      "source": [
        "import time\n",
        "\n",
        "imgs_by_size = get_article_images_by_size(newsdata_res, art_idxs.values.reshape(-1), limit=30)\n",
        "\n",
        "img_data = []\n",
        "\n",
        "for img in imgs_by_size:\n",
        "  iw,ih = img[\"image\"].size\n",
        "  if ih > iw:\n",
        "    continue\n",
        "\n",
        "  if ih > 512:\n",
        "    img_512 = img[\"image\"].resize((int(iw/ih*512), 512))\n",
        "  else:\n",
        "    img_512 = img[\"image\"]\n",
        "\n",
        "  description = get_img_description(img[\"image\"])\n",
        "  img_content = description[\"content\"]\n",
        "  img_style = description[\"style\"]\n",
        "  time.sleep(7)\n",
        "\n",
        "  if (\n",
        "    img_content == \"\" or img_style == \"\" or\n",
        "    \"logo\" in img_content or \"logo\" in img_style or\n",
        "    \"branding\" in img_content or \"branding\" in img_style or\n",
        "    \"line art\" in img_content or \"line art\" in img_style or\n",
        "    \"typograph\" in img_content or \"typograph\" in img_style or\n",
        "    \"illustrat\" in img_content or \"illustrat\" in img_style or\n",
        "    \"digital art\" in img_content or \"digital art\" in img_style or\n",
        "    \"graphic design\" in img_content or \"graphic design\" in img_style or\n",
        "    \"graphic overlay\" in img_content or \"graphic overlay\" in img_style\n",
        "  ): continue\n",
        "\n",
        "  display(img_512)\n",
        "\n",
        "  img_data.append({\n",
        "    \"article_id\" : newsdata_res[img[\"idx\"]][\"article_id\"],\n",
        "    \"pubDate\": newsdata_res[img[\"idx\"]][\"pubDate\"],\n",
        "    \"image\": img_512,\n",
        "    \"content\": description[\"content\"],\n",
        "    \"style\": description[\"style\"],\n",
        "  })\n",
        "\n",
        "len(img_data)"
      ]
    },
    {
      "cell_type": "markdown",
      "metadata": {},
      "source": [
        "## Push to HF"
      ]
    },
    {
      "cell_type": "code",
      "execution_count": null,
      "metadata": {},
      "outputs": [],
      "source": [
        "from datasets import Dataset\n",
        "\n",
        "dataset = Dataset.from_list(img_data)\n",
        "dataset.push_to_hub(\"thiagohersan/newsdata-images\", split=\"newsdata\")"
      ]
    },
    {
      "cell_type": "code",
      "execution_count": null,
      "metadata": {},
      "outputs": [],
      "source": [
        "from datasets import Dataset, concatenate_datasets, load_dataset\n",
        "\n",
        "dataset_hf = load_dataset(\"thiagohersan/newsdata-images\", split=\"newsdata\")\n",
        "\n",
        "dataset = concatenate_datasets([dataset_hf, Dataset.from_list(img_data)])\n",
        "\n",
        "dataset.push_to_hub(\"thiagohersan/newsdata-images\", split=\"newsdata\")"
      ]
    }
  ],
  "metadata": {
    "accelerator": "GPU",
    "colab": {
      "gpuType": "T4",
      "provenance": []
    },
    "kernelspec": {
      "display_name": "5020",
      "language": "python",
      "name": "python3"
    },
    "language_info": {
      "codemirror_mode": {
        "name": "ipython",
        "version": 3
      },
      "file_extension": ".py",
      "mimetype": "text/x-python",
      "name": "python",
      "nbconvert_exporter": "python",
      "pygments_lexer": "ipython3",
      "version": "3.10.18"
    }
  },
  "nbformat": 4,
  "nbformat_minor": 0
}
