{
  "cells": [
    {
      "cell_type": "markdown",
      "metadata": {},
      "source": [
        "## Image Generation"
      ]
    },
    {
      "cell_type": "code",
      "execution_count": null,
      "metadata": {
        "id": "QA6B1sEWQVO0"
      },
      "outputs": [],
      "source": [
        "!pip install transformers==4.49 diffusers==0.32.2"
      ]
    },
    {
      "cell_type": "code",
      "execution_count": null,
      "metadata": {},
      "outputs": [],
      "source": [
        "# !rm -rf imgs/"
      ]
    },
    {
      "cell_type": "code",
      "execution_count": null,
      "metadata": {},
      "outputs": [],
      "source": [
        "# !rm LandscapeGenerator.py utils.py"
      ]
    },
    {
      "cell_type": "code",
      "execution_count": null,
      "metadata": {
        "id": "-mp6zVlawGZl"
      },
      "outputs": [],
      "source": [
        "# !wget https://raw.githubusercontent.com/thiagohersan/media-landscape/refs/heads/main/python/utils.py\n",
        "# !wget https://raw.githubusercontent.com/thiagohersan/media-landscape/refs/heads/main/python/LandscapeGenerator.py"
      ]
    },
    {
      "cell_type": "code",
      "execution_count": null,
      "metadata": {
        "id": "vrbnt5Hvxi0o"
      },
      "outputs": [],
      "source": [
        "import os\n",
        "os.environ[\"GEMINI_API_KEY\"] = \"\"\n",
        "\n",
        "from datasets import load_dataset\n",
        "from PIL import Image as PImage\n",
        "\n",
        "from LandscapeGenerator import LandscapeGenerator"
      ]
    },
    {
      "cell_type": "code",
      "execution_count": null,
      "metadata": {},
      "outputs": [],
      "source": [
        "newsdata_ds = load_dataset(\"thiagohersan/newsdata-images\", split=\"newsdata\")\n",
        "\n",
        "newsdata_data = []\n",
        "for img in newsdata_ds:\n",
        "  newsdata_data.append(img)\n",
        "\n",
        "newsdata_data_sorted = sorted(newsdata_data, key=lambda x: x[\"image\"].size[0]*x[\"image\"].size[1], reverse=True)"
      ]
    },
    {
      "cell_type": "code",
      "execution_count": null,
      "metadata": {
        "id": "sRvYTKsqx-4R"
      },
      "outputs": [],
      "source": [
        "# \"runwayml/stable-diffusion-inpainting\"\n",
        "# \"stable-diffusion-v1-5/stable-diffusion-inpainting\"\n",
        "# \"stabilityai/stable-diffusion-2-inpainting\"\n",
        "mLG = LandscapeGenerator(newsdata_data_sorted, \"stable-diffusion-v1-5/stable-diffusion-inpainting\")"
      ]
    },
    {
      "cell_type": "markdown",
      "metadata": {},
      "source": [
        "### New landscape"
      ]
    },
    {
      "cell_type": "code",
      "execution_count": null,
      "metadata": {},
      "outputs": [],
      "source": [
        "mLG.gen_landscape(keep_width=256, size=(1440, 512), n=8, label=\"test00\")"
      ]
    },
    {
      "cell_type": "markdown",
      "metadata": {},
      "source": [
        "### Continue with seed"
      ]
    },
    {
      "cell_type": "code",
      "execution_count": null,
      "metadata": {},
      "outputs": [],
      "source": [
        "seed = PImage.open(\"./imgs/test01/test01_07.jpg\")\n",
        "mLG.gen_landscape(keep_width=256, size=(1440, 512), n=8, label=\"test02\", seed_img=seed)"
      ]
    },
    {
      "cell_type": "markdown",
      "metadata": {},
      "source": [
        "### Graft"
      ]
    },
    {
      "cell_type": "code",
      "execution_count": null,
      "metadata": {},
      "outputs": [],
      "source": [
        "limg = PImage.open(\"./imgs/test02/test01_01.jpg\")\n",
        "rimg = PImage.open(\"./imgs/test02/test01_02.jpg\")\n",
        "display(rimg)\n",
        "\n",
        "prompt,img_in,mask_in = mLG.prep_graft(limg, rimg, keep_width=256, right_offset=20)\n",
        "display(img_in)\n",
        "display(mask_in)"
      ]
    },
    {
      "cell_type": "code",
      "execution_count": null,
      "metadata": {},
      "outputs": [],
      "source": [
        "output = mLG.pipe(\n",
        "  prompt=prompt,\n",
        "  negative_prompt=\"repetitive, distortion, glitch, borders, stretched, frames, breaks, multiple rows, gore, zombies, violence, splits, maps, diagrams, text, font, logos, branding\",\n",
        "  image=img_in,\n",
        "  mask_image=mask_in,\n",
        "  width=img_in.size[0], height=img_in.size[1],\n",
        "  guidance_scale=12.0,\n",
        "  num_inference_steps=32,\n",
        "  num_images_per_prompt=1,\n",
        ")\n",
        "output.images[0]"
      ]
    },
    {
      "cell_type": "code",
      "execution_count": null,
      "metadata": {},
      "outputs": [],
      "source": [
        "iw,ih = output.images[0].size\n",
        "output.images[0].crop((256,0,iw,ih)).save(\"imgs/test01_grafted2.jpg\")"
      ]
    },
    {
      "cell_type": "markdown",
      "metadata": {},
      "source": [
        "## Read from newsdata.io"
      ]
    },
    {
      "cell_type": "code",
      "execution_count": null,
      "metadata": {},
      "outputs": [],
      "source": [
        "import json\n",
        "\n",
        "from datetime import datetime\n",
        "from os import makedirs\n",
        "\n",
        "from utils import get_articles"
      ]
    },
    {
      "cell_type": "code",
      "execution_count": null,
      "metadata": {},
      "outputs": [],
      "source": [
        "date = datetime.now().strftime(\"%Y-%m-%d\")\n",
        "makedirs(f\"./data/{date}\", exist_ok=True)\n",
        "\n",
        "queries = [\"catastrophe\", \"disaster\", \"drought\", \"rain\"]\n",
        "q = \"rain\"\n",
        "\n",
        "res = get_articles(q=q, cat=\"environment\", n_articles=200)\n",
        "\n",
        "with open(f\"./data/{date}/newsdata_{q}.json\", \"w\") as ofp:\n",
        "  json.dump(res, ofp, ensure_ascii=False)"
      ]
    },
    {
      "cell_type": "markdown",
      "metadata": {},
      "source": [
        "## Read news from JSON"
      ]
    },
    {
      "cell_type": "code",
      "execution_count": null,
      "metadata": {},
      "outputs": [],
      "source": [
        "import json\n",
        "import time\n",
        "\n",
        "from datetime import datetime\n",
        "\n",
        "from utils import get_articles_with_top_words, get_article_images_by_size\n",
        "from utils import get_img_description"
      ]
    },
    {
      "cell_type": "code",
      "execution_count": null,
      "metadata": {},
      "outputs": [],
      "source": [
        "date = datetime.now().strftime(\"%Y-%m-%d\")\n",
        "queries = [\"catastrophe\", \"disaster\", \"drought\", \"rain\"]\n",
        "q = \"rain\"\n",
        "\n",
        "with open(f\"./data/{date}/newsdata_{q}.json\", \"r\") as ifp:\n",
        "  newsdata_res = json.load(ifp)\n",
        "\n",
        "art_idxs = get_articles_with_top_words(newsdata_res, n_words=10, n_articles=8)\n",
        "\n",
        "display(art_idxs)\n",
        "\n",
        "print(len(set(art_idxs.values.reshape(-1))), \"/\", len(newsdata_res))"
      ]
    },
    {
      "cell_type": "code",
      "execution_count": null,
      "metadata": {},
      "outputs": [],
      "source": [
        "imgs_by_size = get_article_images_by_size(newsdata_res, art_idxs.values.reshape(-1), limit=30)\n",
        "\n",
        "img_data = []\n",
        "\n",
        "for img in imgs_by_size:\n",
        "  iw,ih = img[\"image\"].size\n",
        "  if ih > iw or ih < 480 or iw < 640:\n",
        "    continue\n",
        "\n",
        "  if ih > 512:\n",
        "    img_512 = img[\"image\"].resize((int(iw/ih*512), 512))\n",
        "  else:\n",
        "    img_512 = img[\"image\"]\n",
        "  \n",
        "  if img_512.size[0] < 640:\n",
        "    continue\n",
        "\n",
        "  description = get_img_description(img_512)\n",
        "  img_content = description[\"content\"]\n",
        "  img_style = description[\"style\"]\n",
        "  time.sleep(7)\n",
        "\n",
        "  if (\n",
        "    img_content == \"\" or img_style == \"\" or\n",
        "    \"logo\" in img_content or \"logo\" in img_style or\n",
        "    \"hologra\" in img_content or \"hologra\" in img_style or\n",
        "    \"branding\" in img_content or \"branding\" in img_style or\n",
        "    \"line art\" in img_content or \"line art\" in img_style or\n",
        "    \"typograph\" in img_content or \"typograph\" in img_style or\n",
        "    \"illustrat\" in img_content or \"illustrat\" in img_style or\n",
        "    \"digital art\" in img_content or \"digital art\" in img_style or\n",
        "    \"graphic design\" in img_content or \"graphic design\" in img_style or\n",
        "    \"graphic overlay\" in img_content or \"graphic overlay\" in img_style\n",
        "  ): continue\n",
        "\n",
        "  i512w,i512h = img_512.size\n",
        "  display(img_512.resize((i512w//3, i512h//3)))\n",
        "  print(newsdata_res[img[\"idx\"]][\"article_id\"])\n",
        "\n",
        "  img_data.append({\n",
        "    \"article_id\" : newsdata_res[img[\"idx\"]][\"article_id\"],\n",
        "    \"title\": newsdata_res[img[\"idx\"]][\"title\"],\n",
        "    \"description\": newsdata_res[img[\"idx\"]][\"description\"],\n",
        "    \"source_name\": newsdata_res[img[\"idx\"]][\"source_name\"],\n",
        "    \"pubDate\": newsdata_res[img[\"idx\"]][\"pubDate\"],\n",
        "\n",
        "    \"image\": img_512,\n",
        "    \"content\": description[\"content\"],\n",
        "    \"style\": description[\"style\"],\n",
        "  })\n",
        "\n",
        "len(img_data)"
      ]
    },
    {
      "cell_type": "code",
      "execution_count": null,
      "metadata": {},
      "outputs": [],
      "source": [
        "to_remove = [\n",
        "  \"2c2100e117f3836cd72fd13b63b26e3a\",\n",
        "  \"00fcec63a1093d16d716eb5c4e2d6f02\",\n",
        "  \"5a697149df423f3fd7f4a09a1dfff176\",\n",
        "  \"ed9076bfb73e9eb1978067ded3d4be86\",\n",
        "  \"e4f19539be2d1de1691fa057c74a40da\"\n",
        "]\n",
        "\n",
        "filtered_img_data = [x for x in img_data if x[\"article_id\"] not in to_remove]\n",
        "\n",
        "print(len(filtered_img_data))"
      ]
    },
    {
      "cell_type": "code",
      "execution_count": null,
      "metadata": {},
      "outputs": [],
      "source": [
        "to_keep = [\n",
        "  \"73d7e90a242e1a8d20f4003708e78d52\",\n",
        "  \"f8e31ed86e3eb0e50fe26bc5300240db\",\n",
        "  \"7d7325580f92627e3770edf9ed228ab8\",\n",
        "  \"98fb216757839f99797f2b150902fd0c\",\n",
        "  \"03330f8751f778873de18e3c7a8a39a9\"\n",
        "]\n",
        "\n",
        "filtered_img_data = [x for x in img_data if x[\"article_id\"] in to_keep]\n",
        "\n",
        "print(len(filtered_img_data))"
      ]
    },
    {
      "cell_type": "markdown",
      "metadata": {},
      "source": [
        "## Push to HF"
      ]
    },
    {
      "cell_type": "code",
      "execution_count": null,
      "metadata": {},
      "outputs": [],
      "source": [
        "from datasets import Dataset, concatenate_datasets, load_dataset"
      ]
    },
    {
      "cell_type": "code",
      "execution_count": null,
      "metadata": {},
      "outputs": [],
      "source": [
        "dataset = Dataset.from_list(filtered_img_data)\n",
        "dataset.push_to_hub(\"thiagohersan/newsdata-images\", split=\"newsdata\")"
      ]
    },
    {
      "cell_type": "code",
      "execution_count": null,
      "metadata": {},
      "outputs": [],
      "source": [
        "dataset_hf = load_dataset(\"thiagohersan/newsdata-images\", split=\"newsdata\")\n",
        "dataset = concatenate_datasets([dataset_hf, Dataset.from_list(filtered_img_data)])\n",
        "dataset.push_to_hub(\"thiagohersan/newsdata-images\", split=\"newsdata\")"
      ]
    }
  ],
  "metadata": {
    "accelerator": "GPU",
    "colab": {
      "gpuType": "T4",
      "provenance": []
    },
    "kernelspec": {
      "display_name": "5020",
      "language": "python",
      "name": "python3"
    },
    "language_info": {
      "codemirror_mode": {
        "name": "ipython",
        "version": 3
      },
      "file_extension": ".py",
      "mimetype": "text/x-python",
      "name": "python",
      "nbconvert_exporter": "python",
      "pygments_lexer": "ipython3",
      "version": "3.10.18"
    }
  },
  "nbformat": 4,
  "nbformat_minor": 0
}
