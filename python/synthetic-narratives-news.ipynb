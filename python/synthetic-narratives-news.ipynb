{
  "cells": [
    {
      "cell_type": "markdown",
      "metadata": {},
      "source": [
        "## Read from newsdata.io"
      ]
    },
    {
      "cell_type": "code",
      "execution_count": null,
      "metadata": {},
      "outputs": [],
      "source": [
        "import json\n",
        "\n",
        "from datetime import datetime\n",
        "from os import makedirs\n",
        "\n",
        "from utils import get_articles"
      ]
    },
    {
      "cell_type": "code",
      "execution_count": null,
      "metadata": {},
      "outputs": [],
      "source": [
        "date = datetime.now().strftime(\"%Y-%m-%d\")\n",
        "makedirs(f\"./data/{date}\", exist_ok=True)\n",
        "\n",
        "queries = [\"catastrophe\", \"disaster\", \"drought\", \"heatwave\", \"pollution\", \"rain\"]\n",
        "q = \"catastrophe\"\n",
        "\n",
        "res = get_articles(q=q, cat=\"environment\", n_articles=200)\n",
        "\n",
        "with open(f\"./data/{date}/newsdata_{q}.json\", \"w\") as ofp:\n",
        "  json.dump(res, ofp, ensure_ascii=False)"
      ]
    },
    {
      "cell_type": "markdown",
      "metadata": {},
      "source": [
        "## Read news from JSON"
      ]
    },
    {
      "cell_type": "code",
      "execution_count": null,
      "metadata": {},
      "outputs": [],
      "source": [
        "import json\n",
        "import time\n",
        "\n",
        "from datetime import datetime\n",
        "\n",
        "from utils import get_articles_with_top_words, get_article_images_by_size\n",
        "from utils import get_img_description"
      ]
    },
    {
      "cell_type": "code",
      "execution_count": null,
      "metadata": {},
      "outputs": [],
      "source": [
        "date = datetime.now().strftime(\"%Y-%m-%d\")\n",
        "queries = [\"catastrophe\", \"disaster\", \"drought\", \"heatwave\", \"pollution\", \"rain\"]\n",
        "q = \"catastrophe\"\n",
        "\n",
        "with open(f\"./data/{date}/newsdata_{q}.json\", \"r\") as ifp:\n",
        "  newsdata_res = json.load(ifp)\n",
        "\n",
        "art_idxs = get_articles_with_top_words(newsdata_res, n_words=8, n_articles=8)\n",
        "\n",
        "display(art_idxs)\n",
        "\n",
        "print(len(set(art_idxs.values.reshape(-1))), \"/\", len(newsdata_res))"
      ]
    },
    {
      "cell_type": "code",
      "execution_count": null,
      "metadata": {},
      "outputs": [],
      "source": [
        "imgs_by_size = get_article_images_by_size(newsdata_res, art_idxs.values.reshape(-1), limit=32)\n",
        "\n",
        "img_data = []\n",
        "\n",
        "for img in imgs_by_size:\n",
        "  iw,ih = img[\"image\"].size\n",
        "  if ih > iw or ih < 480 or iw < 640:\n",
        "    continue\n",
        "\n",
        "  if ih > 512:\n",
        "    img_512 = img[\"image\"].resize((int(iw/ih*512), 512))\n",
        "  else:\n",
        "    img_512 = img[\"image\"]\n",
        "  \n",
        "  if img_512.size[0] < 640:\n",
        "    continue\n",
        "\n",
        "  description = get_img_description(img_512)\n",
        "  img_content = description[\"content\"]\n",
        "  img_style = description[\"style\"]\n",
        "  time.sleep(7)\n",
        "\n",
        "  if (\n",
        "    img_content == \"\" or img_style == \"\" or\n",
        "    \"logo\" in img_content or \"logo\" in img_style or\n",
        "    \"hologra\" in img_content or \"hologra\" in img_style or\n",
        "    \"branding\" in img_content or \"branding\" in img_style or\n",
        "    \"line art\" in img_content or \"line art\" in img_style or\n",
        "    \"typograph\" in img_content or \"typograph\" in img_style or\n",
        "    \"illustrat\" in img_content or \"illustrat\" in img_style or\n",
        "    \"digital art\" in img_content or \"digital art\" in img_style or\n",
        "    \"graphic design\" in img_content or \"graphic design\" in img_style or\n",
        "    \"graphic overlay\" in img_content or \"graphic overlay\" in img_style\n",
        "  ): continue\n",
        "\n",
        "  i512w,i512h = img_512.size\n",
        "  display(img_512.resize((i512w//3, i512h//3)))\n",
        "  print(newsdata_res[img[\"idx\"]][\"article_id\"], \"☝️\")\n",
        "\n",
        "  img_data.append({\n",
        "    \"article_id\" : newsdata_res[img[\"idx\"]][\"article_id\"],\n",
        "    \"title\": newsdata_res[img[\"idx\"]][\"title\"],\n",
        "    \"description\": newsdata_res[img[\"idx\"]][\"description\"],\n",
        "    \"source_name\": newsdata_res[img[\"idx\"]][\"source_name\"],\n",
        "    \"pubDate\": newsdata_res[img[\"idx\"]][\"pubDate\"],\n",
        "\n",
        "    \"image\": img_512,\n",
        "    \"content\": description[\"content\"],\n",
        "    \"style\": description[\"style\"],\n",
        "  })\n",
        "\n",
        "len(img_data)"
      ]
    },
    {
      "cell_type": "code",
      "execution_count": null,
      "metadata": {},
      "outputs": [],
      "source": [
        "to_remove = [\n",
        "  \"\",\n",
        "  \"\",\n",
        "]\n",
        "\n",
        "filtered_img_data = [x for x in img_data if x[\"article_id\"] not in to_remove]\n",
        "\n",
        "print(len(filtered_img_data))"
      ]
    },
    {
      "cell_type": "code",
      "execution_count": null,
      "metadata": {},
      "outputs": [],
      "source": [
        "to_keep = [\n",
        "  \"\",\n",
        "  \"\",\n",
        "]\n",
        "\n",
        "filtered_img_data = [x for x in img_data if x[\"article_id\"] in to_keep]\n",
        "\n",
        "print(len(filtered_img_data))"
      ]
    },
    {
      "cell_type": "markdown",
      "metadata": {},
      "source": [
        "## Push to HF"
      ]
    },
    {
      "cell_type": "code",
      "execution_count": null,
      "metadata": {},
      "outputs": [],
      "source": [
        "from datasets import Dataset, concatenate_datasets, load_dataset"
      ]
    },
    {
      "cell_type": "markdown",
      "metadata": {},
      "source": [
        "## Create new dataset"
      ]
    },
    {
      "cell_type": "code",
      "execution_count": null,
      "metadata": {},
      "outputs": [],
      "source": [
        "dataset = Dataset.from_list(filtered_img_data)\n",
        "dataset.push_to_hub(\"thiagohersan/newsdata-images\", split=\"newsdata\")"
      ]
    },
    {
      "cell_type": "markdown",
      "metadata": {},
      "source": [
        "## Add rows"
      ]
    },
    {
      "cell_type": "code",
      "execution_count": null,
      "metadata": {},
      "outputs": [],
      "source": [
        "dataset_hf = load_dataset(\"thiagohersan/newsdata-images\", split=\"newsdata\")\n",
        "dataset = concatenate_datasets([dataset_hf, Dataset.from_list(filtered_img_data)])\n",
        "\n",
        "id2article = {x[\"article_id\"] : x for x in dataset}\n",
        "dataset = Dataset.from_list(list(id2article.values()))\n",
        "\n",
        "dataset.push_to_hub(\"thiagohersan/newsdata-images\", split=\"newsdata\")"
      ]
    },
    {
      "cell_type": "markdown",
      "metadata": {},
      "source": [
        "## Manually filter"
      ]
    },
    {
      "cell_type": "code",
      "execution_count": null,
      "metadata": {},
      "outputs": [],
      "source": [
        "dataset_hf = load_dataset(\"thiagohersan/newsdata-images\", split=\"newsdata\")\n",
        "\n",
        "print(len(dataset_hf))\n",
        "\n",
        "for a in dataset_hf:\n",
        "  display(a[\"image\"])\n",
        "  print(a[\"article_id\"], \"☝️\")"
      ]
    },
    {
      "cell_type": "code",
      "execution_count": null,
      "metadata": {},
      "outputs": [],
      "source": [
        "to_remove = [\n",
        "  \"\",\n",
        "  \"\",\n",
        "]\n",
        "\n",
        "filtered_img_data = [a for a in dataset_hf if a[\"article_id\"] not in to_remove]\n",
        "\n",
        "len(filtered_img_data)"
      ]
    },
    {
      "cell_type": "code",
      "execution_count": null,
      "metadata": {},
      "outputs": [],
      "source": [
        "dataset = Dataset.from_list(filtered_img_data)\n",
        "dataset.push_to_hub(\"thiagohersan/newsdata-images\", split=\"newsdata\")"
      ]
    },
    {
      "cell_type": "markdown",
      "metadata": {},
      "source": [
        "## Bulk rename (with git)"
      ]
    },
    {
      "cell_type": "code",
      "execution_count": null,
      "metadata": {},
      "outputs": [],
      "source": [
        "from os import listdir\n",
        "from time import sleep\n",
        "import subprocess\n",
        "\n",
        "DIR = \"../www/imgs/2025-10-22\"\n",
        "\n",
        "fs = sorted([f for f in listdir(DIR) if f.endswith(\"jpg\") and f.startswith(\"20251022\")])\n",
        "len(fs)"
      ]
    },
    {
      "cell_type": "code",
      "execution_count": null,
      "metadata": {},
      "outputs": [],
      "source": [
        "for f in fs:\n",
        "  nf = f.replace(\"20251022_\", \"20251021_\")\n",
        "  subprocess.run([\"git\", \"mv\", f\"{DIR}/{f}\", f\"{DIR}/{nf}\"])\n",
        "  sleep(0.2)"
      ]
    }
  ],
  "metadata": {
    "accelerator": "GPU",
    "colab": {
      "gpuType": "T4",
      "provenance": []
    },
    "kernelspec": {
      "display_name": "5020",
      "language": "python",
      "name": "python3"
    },
    "language_info": {
      "codemirror_mode": {
        "name": "ipython",
        "version": 3
      },
      "file_extension": ".py",
      "mimetype": "text/x-python",
      "name": "python",
      "nbconvert_exporter": "python",
      "pygments_lexer": "ipython3",
      "version": "3.10.18"
    }
  },
  "nbformat": 4,
  "nbformat_minor": 0
}
