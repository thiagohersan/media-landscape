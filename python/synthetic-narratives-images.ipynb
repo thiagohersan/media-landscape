{
  "cells": [
    {
      "cell_type": "markdown",
      "metadata": {},
      "source": [
        "## Image Generation"
      ]
    },
    {
      "cell_type": "code",
      "execution_count": null,
      "metadata": {
        "id": "QA6B1sEWQVO0"
      },
      "outputs": [],
      "source": [
        "# !pip install transformers==4.49 diffusers==0.32.2\n",
        "# !wget https://raw.githubusercontent.com/thiagohersan/media-landscape/refs/heads/main/python/utils.py\n",
        "# !wget https://raw.githubusercontent.com/thiagohersan/media-landscape/refs/heads/main/python/LandscapeGenerator.py"
      ]
    },
    {
      "cell_type": "code",
      "execution_count": null,
      "metadata": {
        "id": "vrbnt5Hvxi0o"
      },
      "outputs": [],
      "source": [
        "import os\n",
        "os.environ[\"GEMINI_API_KEY\"] = \"\"\n",
        "\n",
        "from datasets import load_dataset\n",
        "from PIL import Image as PImage\n",
        "\n",
        "from LandscapeGenerator import LandscapeGenerator"
      ]
    },
    {
      "cell_type": "code",
      "execution_count": null,
      "metadata": {},
      "outputs": [],
      "source": [
        "newsdata_ds = load_dataset(\"thiagohersan/newsdata-images\", split=\"newsdata\")\n",
        "newsdata_data = [img for img in newsdata_ds]\n",
        "newsdata_data_date = sorted(newsdata_data, key=lambda x: x[\"pubDate\"], reverse=True)[:32]"
      ]
    },
    {
      "cell_type": "code",
      "execution_count": null,
      "metadata": {
        "id": "sRvYTKsqx-4R"
      },
      "outputs": [],
      "source": [
        "models = [\n",
        "  \"runwayml/stable-diffusion-inpainting\",\n",
        "  \"stable-diffusion-v1-5/stable-diffusion-inpainting\",\n",
        "  \"stabilityai/stable-diffusion-2-inpainting\"\n",
        "]\n",
        "\n",
        "mLG = LandscapeGenerator(newsdata_data_date, models[1])"
      ]
    },
    {
      "cell_type": "markdown",
      "metadata": {},
      "source": [
        "### New landscape"
      ]
    },
    {
      "cell_type": "code",
      "execution_count": null,
      "metadata": {},
      "outputs": [],
      "source": [
        "mLG.gen_landscape(keep_width=256, size=(1440, 512), n=8, label=\"test00\")"
      ]
    },
    {
      "cell_type": "markdown",
      "metadata": {},
      "source": [
        "### Continue with seed"
      ]
    },
    {
      "cell_type": "code",
      "execution_count": null,
      "metadata": {},
      "outputs": [],
      "source": [
        "seed = PImage.open(\"./imgs/test01/test01_07.jpg\")\n",
        "mLG.gen_landscape(keep_width=256, size=(1440, 512), n=8, label=\"test02\", seed_img=seed)"
      ]
    },
    {
      "cell_type": "markdown",
      "metadata": {},
      "source": [
        "### Graft"
      ]
    },
    {
      "cell_type": "code",
      "execution_count": null,
      "metadata": {},
      "outputs": [],
      "source": [
        "limg = PImage.open(\"./imgs/test02/test01_01.jpg\")\n",
        "rimg = PImage.open(\"./imgs/test02/test01_02.jpg\")\n",
        "display(rimg)\n",
        "\n",
        "prompt,img_in,mask_in = mLG.prep_graft(limg, rimg, keep_width=256, right_offset=20)\n",
        "display(img_in)\n",
        "display(mask_in)"
      ]
    },
    {
      "cell_type": "code",
      "execution_count": null,
      "metadata": {},
      "outputs": [],
      "source": [
        "output = mLG.pipe(\n",
        "  prompt=prompt,\n",
        "  negative_prompt=\"repetitive, distortion, glitch, borders, stretched, frames, breaks, multiple rows, gore, zombies, violence, splits, maps, diagrams, text, font, logos, branding\",\n",
        "  image=img_in,\n",
        "  mask_image=mask_in,\n",
        "  width=img_in.size[0], height=img_in.size[1],\n",
        "  guidance_scale=12.0,\n",
        "  num_inference_steps=32,\n",
        "  num_images_per_prompt=1,\n",
        ")\n",
        "output.images[0]"
      ]
    },
    {
      "cell_type": "code",
      "execution_count": null,
      "metadata": {},
      "outputs": [],
      "source": [
        "iw,ih = output.images[0].size\n",
        "output.images[0].crop((256,0,iw,ih)).save(\"imgs/test01_grafted2.jpg\")"
      ]
    }
  ],
  "metadata": {
    "accelerator": "GPU",
    "colab": {
      "gpuType": "T4",
      "provenance": []
    },
    "kernelspec": {
      "display_name": "5020",
      "language": "python",
      "name": "python3"
    },
    "language_info": {
      "codemirror_mode": {
        "name": "ipython",
        "version": 3
      },
      "file_extension": ".py",
      "mimetype": "text/x-python",
      "name": "python",
      "nbconvert_exporter": "python",
      "pygments_lexer": "ipython3",
      "version": "3.10.18"
    }
  },
  "nbformat": 4,
  "nbformat_minor": 0
}
