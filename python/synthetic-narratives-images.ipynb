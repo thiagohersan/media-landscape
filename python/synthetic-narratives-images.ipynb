{
  "cells": [
    {
      "cell_type": "markdown",
      "metadata": {},
      "source": [
        "## Image Generation"
      ]
    },
    {
      "cell_type": "code",
      "execution_count": null,
      "metadata": {
        "id": "QA6B1sEWQVO0"
      },
      "outputs": [],
      "source": [
        "# !pip install transformers==4.49 diffusers==0.32.2\n",
        "# !wget https://raw.githubusercontent.com/thiagohersan/media-landscape/refs/heads/main/python/utils.py\n",
        "# !wget https://raw.githubusercontent.com/thiagohersan/media-landscape/refs/heads/main/python/LandscapeGenerator.py"
      ]
    },
    {
      "cell_type": "code",
      "execution_count": null,
      "metadata": {
        "id": "vrbnt5Hvxi0o"
      },
      "outputs": [],
      "source": [
        "import os\n",
        "os.environ[\"GEMINI_API_KEY\"] = \"\"\n",
        "\n",
        "from datasets import load_dataset\n",
        "from PIL import Image as PImage\n",
        "\n",
        "from LandscapeGenerator import LandscapeGenerator"
      ]
    },
    {
      "cell_type": "code",
      "execution_count": null,
      "metadata": {},
      "outputs": [],
      "source": [
        "newsdata_ds = load_dataset(\"thiagohersan/newsdata-images\", split=\"newsdata\")\n",
        "newsdata_data = [img for img in newsdata_ds]\n",
        "newsdata_data_date = sorted(newsdata_data, key=lambda x: x[\"pubDate\"], reverse=True)[:64]"
      ]
    },
    {
      "cell_type": "code",
      "execution_count": null,
      "metadata": {
        "id": "sRvYTKsqx-4R"
      },
      "outputs": [],
      "source": [
        "models = [\n",
        "  \"runwayml/stable-diffusion-inpainting\",\n",
        "  \"stable-diffusion-v1-5/stable-diffusion-inpainting\",\n",
        "  \"stabilityai/stable-diffusion-2-inpainting\"\n",
        "]\n",
        "\n",
        "mLG = LandscapeGenerator(newsdata_data_date, models[1])"
      ]
    },
    {
      "cell_type": "markdown",
      "metadata": {},
      "source": [
        "### New landscape"
      ]
    },
    {
      "cell_type": "code",
      "execution_count": null,
      "metadata": {},
      "outputs": [],
      "source": [
        "mLG.gen_landscape(keep_width=256, size=(1440, 512), n=32, label=\"20251023_00\")"
      ]
    },
    {
      "cell_type": "markdown",
      "metadata": {},
      "source": [
        "### Continue with seed"
      ]
    },
    {
      "cell_type": "code",
      "execution_count": null,
      "metadata": {},
      "outputs": [],
      "source": [
        "seed = PImage.open(\"./imgs/20251023_04/20251023_04_32.jpg\")\n",
        "mLG.gen_landscape(keep_width=256, size=(1440, 512), n=32, label=\"20251023_05\", seed_img=seed)"
      ]
    },
    {
      "cell_type": "markdown",
      "metadata": {},
      "source": [
        "### Graft from single image"
      ]
    },
    {
      "cell_type": "code",
      "execution_count": null,
      "metadata": {},
      "outputs": [],
      "source": [
        "limg = PImage.open(\"./imgs/20251023_03/20251023_03_15.jpg\")\n",
        "label = \"20251023_03_15\"\n",
        "\n",
        "keep_width=500\n",
        "limg.crop((0,0,keep_width,512)).save(f\"./imgs/foo/{label}a.jpg\")\n",
        "\n",
        "i,m = LandscapeGenerator.add_crop(limg, 0, keep_width, (1440,512), None, 0)\n",
        "img_in,mask_in = LandscapeGenerator.add_crop(limg, 600, 1500, i, m, 880)\n",
        "display(img_in)\n",
        "display(mask_in)"
      ]
    },
    {
      "cell_type": "markdown",
      "metadata": {},
      "source": [
        "### Graft from two image"
      ]
    },
    {
      "cell_type": "code",
      "execution_count": null,
      "metadata": {},
      "outputs": [],
      "source": [
        "limg = PImage.open(\"./imgs/20251023_02/20251023_02_11.jpg\")\n",
        "rimg = PImage.open(\"./imgs/20251023_02/20251023_02_12.jpg\")\n",
        "label = \"20251023_02_12\"\n",
        "# display(limg)\n",
        "# display(rimg)\n",
        "\n",
        "keep_width=256\n",
        "img_in,mask_in = mLG.prep_graft(limg, rimg, keep_width=keep_width, right_offset=500, label=label)\n",
        "\n",
        "display(img_in)\n",
        "# display(mask_in)"
      ]
    },
    {
      "cell_type": "code",
      "execution_count": null,
      "metadata": {},
      "outputs": [],
      "source": [
        "output = mLG.pipe(\n",
        "  prompt=\"edge of rolling river\",\n",
        "  negative_prompt=\"repetitive, stretched, vertical splits, sharp transitions\",\n",
        "  image=img_in,\n",
        "  mask_image=mask_in,\n",
        "  width=img_in.size[0], height=img_in.size[1],\n",
        "  guidance_scale=7.5,\n",
        "  strength=1.0,\n",
        "  num_inference_steps=32,\n",
        "  num_images_per_prompt=4,\n",
        ")\n",
        "\n",
        "for i in output.images:\n",
        "  display(i)"
      ]
    },
    {
      "cell_type": "code",
      "execution_count": null,
      "metadata": {},
      "outputs": [],
      "source": [
        "iidx = 1\n",
        "iw,ih = output.images[iidx].size\n",
        "output.images[iidx].crop((keep_width,0,iw,ih)).save(f\"imgs/{label}a.jpg\")"
      ]
    },
    {
      "cell_type": "code",
      "execution_count": null,
      "metadata": {},
      "outputs": [],
      "source": [
        "LandscapeGenerator.stitch_images(\"./imgs/20251022_06\")"
      ]
    }
  ],
  "metadata": {
    "accelerator": "GPU",
    "colab": {
      "gpuType": "T4",
      "provenance": []
    },
    "kernelspec": {
      "display_name": "ml",
      "language": "python",
      "name": "python3"
    },
    "language_info": {
      "codemirror_mode": {
        "name": "ipython",
        "version": 3
      },
      "file_extension": ".py",
      "mimetype": "text/x-python",
      "name": "python",
      "nbconvert_exporter": "python",
      "pygments_lexer": "ipython3",
      "version": "3.10.15"
    }
  },
  "nbformat": 4,
  "nbformat_minor": 0
}
