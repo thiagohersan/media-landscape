{
 "cells": [
  {
   "cell_type": "markdown",
   "metadata": {},
   "source": [
    "# Prototype for Infinite Mural"
   ]
  },
  {
   "cell_type": "markdown",
   "metadata": {},
   "source": [
    "## Setup"
   ]
  },
  {
   "cell_type": "code",
   "execution_count": null,
   "metadata": {},
   "outputs": [],
   "source": [
    "# !pip install diffusers transformers accelerate safetensors torchvision --upgrade\n",
    "# !pip install torch torchvision torchaudio --index-url https://download.pytorch.org/whl/cu124 --upgrade"
   ]
  },
  {
   "cell_type": "code",
   "execution_count": null,
   "metadata": {},
   "outputs": [],
   "source": [
    "import gc\n",
    "import numpy as np\n",
    "import torch\n",
    "\n",
    "from PIL import Image, ImageFilter\n",
    "\n",
    "from torch.cuda import empty_cache\n",
    "\n",
    "from diffusers import AutoPipelineForInpainting, ControlNetModel\n",
    "from diffusers import DPMSolverMultistepScheduler, EulerDiscreteScheduler, UniPCMultistepScheduler\n",
    "from diffusers import StableDiffusionControlNetPipeline as SDCNPipeline"
   ]
  },
  {
   "cell_type": "code",
   "execution_count": null,
   "metadata": {},
   "outputs": [],
   "source": [
    "def clear_from_gpu(pipe):\n",
    "  pipe = pipe.to(\"cpu\")\n",
    "  del pipe\n",
    "  gc.collect()\n",
    "  empty_cache()"
   ]
  },
  {
   "cell_type": "markdown",
   "metadata": {},
   "source": [
    "## [Inpainting](https://huggingface.co/docs/diffusers/en/using-diffusers/inpaint)\n",
    "\n",
    "Generate parts of an image."
   ]
  },
  {
   "cell_type": "code",
   "execution_count": null,
   "metadata": {},
   "outputs": [],
   "source": [
    "pipe = AutoPipelineForInpainting.from_pretrained(\n",
    "  #\"runwayml/stable-diffusion-inpainting\",\n",
    "  #\"stable-diffusion-v1-5/stable-diffusion-inpainting\",\n",
    "  \"stabilityai/stable-diffusion-2-inpainting\",\n",
    "  torch_dtype=torch.float16,\n",
    "  variant=\"fp16\"\n",
    ").to(\"cuda\")"
   ]
  },
  {
   "cell_type": "code",
   "execution_count": null,
   "metadata": {},
   "outputs": [],
   "source": [
    "KEEP_WIDTH = 256\n",
    "KEEP_BLUR = 4\n",
    "RESULT_SIZE = (1440, 512)\n",
    "\n",
    "def create_input_background(keep_width=KEEP_WIDTH, size=RESULT_SIZE):\n",
    "  img_in = Image.new(\"L\", size)\n",
    "  iw, ih = size\n",
    "  img_in_pxs = [(i % iw >= keep_width) * 255 for i in range(iw * ih)]\n",
    "  img_in.putdata(img_in_pxs)\n",
    "  return img_in.convert(\"RGB\")\n",
    "\n",
    "def resize_by_height(src, height=RESULT_SIZE[1]):\n",
    "  iw, ih = src.size\n",
    "  nw = iw * height / ih\n",
    "  return src.resize((nw, height))\n",
    "\n",
    "def gen_mural(img, prompt, keep_width=KEEP_WIDTH, size=RESULT_SIZE, blur=KEEP_BLUR, n=4, label=\"mural\"):\n",
    "  img = resize_by_height(img.convert(\"RGB\"), height=size[1])\n",
    "  bgd = create_input_background(keep_width=keep_width, size=size)\n",
    "  mask = create_input_background().filter(ImageFilter.GaussianBlur((blur, 0)))\n",
    "  bgd_np = np.array(bgd)\n",
    "\n",
    "  imgs = [img]\n",
    "  mural_width = img.size[0]\n",
    "\n",
    "  for i in range(n):\n",
    "    bgd_np[:, :keep_width] = np.array(img)[:, -keep_width:]\n",
    "    img_in = Image.fromarray(bgd_np)\n",
    "    output = pipe(prompt=prompt, image=img_in, mask_image=mask, num_inference_steps=24, width=size[0], height=size[1])\n",
    "    img_out_np = np.array(output.images[0])[:, keep_width:]\n",
    "    img_out = Image.fromarray(img_out_np)\n",
    "    mural_width += img_out.size[0]\n",
    "    img_out.save(f\"./imgs/{label}_{('0'+str(i))[-2:]}.jpg\")\n",
    "    img = img_out\n",
    "    imgs.append(img)\n",
    "\n",
    "  mural_np = np.zeros((size[1], mural_width, 3), dtype=np.uint8)\n",
    "  cw = 0\n",
    "  for im in imgs:\n",
    "    mural_np[:, cw:cw + im.size[0]] = np.array(im)[:, :]\n",
    "    cw += im.size[0]\n",
    "\n",
    "  mural_out = Image.fromarray(mural_np)\n",
    "  mural_out.save(f\"./imgs/{label}.jpg\")\n",
    "\n",
    "  with open(f\"./imgs/{label}.md\", \"w\") as file:\n",
    "    file.write(\"# Prototype for Infinite Mural\\n\\n\")\n",
    "    file.write(f\"prompt = \\\"{prompt}\\\"\\n\")"
   ]
  },
  {
   "cell_type": "markdown",
   "metadata": {},
   "source": [
    "### Run"
   ]
  },
  {
   "cell_type": "code",
   "execution_count": null,
   "metadata": {},
   "outputs": [],
   "source": [
    "img = Image.open(\"./imgs/landscape_00.jpg\")\n",
    "prompt = \"bob ross oil painting of nature landscape with trees, detailed brushstrokes, mountains, lake, rocks\"\n",
    "prompt = \"bob ross oil painting of nature landscape with garbage, floods, volcano fire, trees on fire, barren burnt trees, detailed brushstrokes, mountains, sometimes a lake and rocks\"\n",
    "gen_mural(img, prompt)"
   ]
  },
  {
   "cell_type": "markdown",
   "metadata": {},
   "source": [
    "### Test"
   ]
  },
  {
   "cell_type": "code",
   "execution_count": null,
   "metadata": {},
   "outputs": [],
   "source": [
    "img = resize_by_height(Image.open(\"./imgs/landscape_00.jpg\").convert(\"RGB\"))\n",
    "bgd = create_input_background()\n",
    "mask = create_input_background().filter(ImageFilter.GaussianBlur((KEEP_BLUR, 0)))\n",
    "\n",
    "display(img)\n",
    "display(bgd)\n",
    "display(mask)"
   ]
  },
  {
   "cell_type": "code",
   "execution_count": null,
   "metadata": {},
   "outputs": [],
   "source": [
    "bgd_np = np.array(bgd)\n",
    "bgd_np[:, :KEEP_WIDTH] = np.array(img)[:, -KEEP_WIDTH:]\n",
    "img_in = Image.fromarray(bgd_np)\n",
    "\n",
    "display(img_in)"
   ]
  },
  {
   "cell_type": "code",
   "execution_count": null,
   "metadata": {},
   "outputs": [],
   "source": [
    "prompt = \"bob ross oil painting of nature landscape with trees, detailed brushstrokes, mountains, lake, rocks\"\n",
    "output = pipe(prompt=prompt, image=img_in, mask_image=mask, num_inference_steps=24, width=RESULT_SIZE[0], height=RESULT_SIZE[1])\n",
    "display(output.images[0])"
   ]
  }
 ],
 "metadata": {
  "kernelspec": {
   "display_name": "gradio",
   "language": "python",
   "name": "python3"
  },
  "language_info": {
   "codemirror_mode": {
    "name": "ipython",
    "version": 3
   },
   "file_extension": ".py",
   "mimetype": "text/x-python",
   "name": "python",
   "nbconvert_exporter": "python",
   "pygments_lexer": "ipython3",
   "version": "3.10.15"
  }
 },
 "nbformat": 4,
 "nbformat_minor": 2
}
